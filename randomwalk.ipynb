{
 "cells": [
  {
   "cell_type": "code",
   "execution_count": 9,
   "metadata": {},
   "outputs": [
    {
     "name": "stdout",
     "output_type": "stream",
     "text": [
      "[[ 0.         -0.27338164  0.95517242  2.59409756  2.84050855  4.26247774]\n",
      " [ 0.         -0.45634629 -0.02318636 -0.14976587  0.41190366  0.23425252]]\n"
     ]
    }
   ],
   "source": [
    "import numpy as np\n",
    "import matplotlib.pyplot as plt\n",
    "\n",
    "X_0 = np.array([[0],[0]])\n",
    "delta_X = np.random.normal(0,1,(2,5))\n",
    "X = np.concatenate((X_0, np.cumsum(delta_X, axis=1)),axis=1)\n",
    "#plt.plot(X[0],X[1],\"ro-\")\n",
    "#plt.savefig('test.pdf')\n",
    "\n",
    "print(X)"
   ]
  },
  {
   "cell_type": "code",
   "execution_count": 10,
   "metadata": {},
   "outputs": [
    {
     "name": "stdout",
     "output_type": "stream",
     "text": [
      "[[-0.27338164  1.22855406  1.63892515  0.24641099  1.42196919]\n",
      " [-0.45634629  0.43315993 -0.12657951  0.56166953 -0.17765115]]\n"
     ]
    }
   ],
   "source": [
    "print(delta_X)"
   ]
  },
  {
   "cell_type": "code",
   "execution_count": null,
   "metadata": {},
   "outputs": [],
   "source": [
    " "
   ]
  }
 ],
 "metadata": {
  "kernelspec": {
   "display_name": "Python 3",
   "language": "python",
   "name": "python3"
  },
  "language_info": {
   "codemirror_mode": {
    "name": "ipython",
    "version": 3
   },
   "file_extension": ".py",
   "mimetype": "text/x-python",
   "name": "python",
   "nbconvert_exporter": "python",
   "pygments_lexer": "ipython3",
   "version": "3.8.5"
  }
 },
 "nbformat": 4,
 "nbformat_minor": 4
}
