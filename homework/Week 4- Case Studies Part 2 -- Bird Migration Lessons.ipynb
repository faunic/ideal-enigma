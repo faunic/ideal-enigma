{
 "cells": [
  {
   "cell_type": "markdown",
   "metadata": {},
   "source": [
    "# 4.2.1 Introduction to GPS Tracking of Birds\n",
    "\n",
    "The global positioning system, or GPS, provides location information\n",
    "anywhere on earth.\n",
    "It was created and is maintained by the US government,\n",
    "and anyone with a GPS receiver can use it for free.\n",
    "GPS is used for various different purposes,\n",
    "ranging from commercial to military applications.\n",
    "GPS receivers have now been integrated to most smartphones,\n",
    "making them commonplace.\n",
    "Scientists have many specialized uses for GPS.\n",
    "One fascinating area of research uses GPS to track movements of animals.\n",
    "It is now possible to manufacturer a small GPS device that is solar charged,\n",
    "so you don't need to change batteries, and use\n",
    "it to track flight patterns of birds.\n",
    "In this case study, we will introduce you\n",
    "to manipulating, examining, and visualizing GPS data used\n",
    "to tracking birds in this way.\n",
    "The data for this case study comes from the LifeWatch INBO project.\n",
    "Several data sets have been released as part of this project.\n",
    "We will use a small data set that consists of migration data for three\n",
    "gulls named Eric, Nico, and Sanne.\n",
    "The csv file contains eight columns, and includes variables\n",
    "like latitude, longitude, altitude, and time stamps.\n",
    "In this case study, we will first load the data,\n",
    "visualize some simple flight trajectories,\n",
    "track flight speed, learn about daytime and much, much more.\n",
    "We have made the file bird_tracking.csv available to you on the course site.\n",
    "So all we need to do is read it in using pandas.\n",
    "As usual, we'll start by importing pandas.\n",
    "I'm going to call my data frame birddata.\n",
    "We will read that in using pandas read_csv function.\n",
    "The file is called bird_tracking.csv.\n",
    "We can look at some basic info about the data frame by typing birddata.info.\n",
    "In this case, we get a brief summary about the columns contained\n",
    "in the data set.\n",
    "We also learn that this data set contains approximately 62,000 entries.\n",
    "We can look at the top of the data set by using the head function.\n",
    "In this case, we get the first five rows of the data set.\n",
    "If you've never seen data like this before,\n",
    "it's worth taking a moment to examine the data\n",
    "frame in a little bit more detail."
   ]
  },
  {
   "cell_type": "code",
   "execution_count": 3,
   "metadata": {},
   "outputs": [
    {
     "name": "stdout",
     "output_type": "stream",
     "text": [
      "<class 'pandas.core.frame.DataFrame'>\n",
      "RangeIndex: 61920 entries, 0 to 61919\n",
      "Data columns (total 9 columns):\n",
      " #   Column              Non-Null Count  Dtype  \n",
      "---  ------              --------------  -----  \n",
      " 0   Unnamed: 0          61920 non-null  int64  \n",
      " 1   altitude            61920 non-null  int64  \n",
      " 2   date_time           61920 non-null  object \n",
      " 3   device_info_serial  61920 non-null  int64  \n",
      " 4   direction           61477 non-null  float64\n",
      " 5   latitude            61920 non-null  float64\n",
      " 6   longitude           61920 non-null  float64\n",
      " 7   speed_2d            61477 non-null  float64\n",
      " 8   bird_name           61920 non-null  object \n",
      "dtypes: float64(4), int64(3), object(2)\n",
      "memory usage: 4.3+ MB\n"
     ]
    },
    {
     "data": {
      "text/html": [
       "<div>\n",
       "<style scoped>\n",
       "    .dataframe tbody tr th:only-of-type {\n",
       "        vertical-align: middle;\n",
       "    }\n",
       "\n",
       "    .dataframe tbody tr th {\n",
       "        vertical-align: top;\n",
       "    }\n",
       "\n",
       "    .dataframe thead th {\n",
       "        text-align: right;\n",
       "    }\n",
       "</style>\n",
       "<table border=\"1\" class=\"dataframe\">\n",
       "  <thead>\n",
       "    <tr style=\"text-align: right;\">\n",
       "      <th></th>\n",
       "      <th>Unnamed: 0</th>\n",
       "      <th>altitude</th>\n",
       "      <th>date_time</th>\n",
       "      <th>device_info_serial</th>\n",
       "      <th>direction</th>\n",
       "      <th>latitude</th>\n",
       "      <th>longitude</th>\n",
       "      <th>speed_2d</th>\n",
       "      <th>bird_name</th>\n",
       "    </tr>\n",
       "  </thead>\n",
       "  <tbody>\n",
       "    <tr>\n",
       "      <th>0</th>\n",
       "      <td>0</td>\n",
       "      <td>71</td>\n",
       "      <td>2013-08-15 00:18:08+00</td>\n",
       "      <td>851</td>\n",
       "      <td>-150.469753</td>\n",
       "      <td>49.419860</td>\n",
       "      <td>2.120733</td>\n",
       "      <td>0.150000</td>\n",
       "      <td>Eric</td>\n",
       "    </tr>\n",
       "    <tr>\n",
       "      <th>1</th>\n",
       "      <td>1</td>\n",
       "      <td>68</td>\n",
       "      <td>2013-08-15 00:48:07+00</td>\n",
       "      <td>851</td>\n",
       "      <td>-136.151141</td>\n",
       "      <td>49.419880</td>\n",
       "      <td>2.120746</td>\n",
       "      <td>2.438360</td>\n",
       "      <td>Eric</td>\n",
       "    </tr>\n",
       "    <tr>\n",
       "      <th>2</th>\n",
       "      <td>2</td>\n",
       "      <td>68</td>\n",
       "      <td>2013-08-15 01:17:58+00</td>\n",
       "      <td>851</td>\n",
       "      <td>160.797477</td>\n",
       "      <td>49.420310</td>\n",
       "      <td>2.120885</td>\n",
       "      <td>0.596657</td>\n",
       "      <td>Eric</td>\n",
       "    </tr>\n",
       "    <tr>\n",
       "      <th>3</th>\n",
       "      <td>3</td>\n",
       "      <td>73</td>\n",
       "      <td>2013-08-15 01:47:51+00</td>\n",
       "      <td>851</td>\n",
       "      <td>32.769360</td>\n",
       "      <td>49.420359</td>\n",
       "      <td>2.120859</td>\n",
       "      <td>0.310161</td>\n",
       "      <td>Eric</td>\n",
       "    </tr>\n",
       "    <tr>\n",
       "      <th>4</th>\n",
       "      <td>4</td>\n",
       "      <td>69</td>\n",
       "      <td>2013-08-15 02:17:42+00</td>\n",
       "      <td>851</td>\n",
       "      <td>45.191230</td>\n",
       "      <td>49.420331</td>\n",
       "      <td>2.120887</td>\n",
       "      <td>0.193132</td>\n",
       "      <td>Eric</td>\n",
       "    </tr>\n",
       "  </tbody>\n",
       "</table>\n",
       "</div>"
      ],
      "text/plain": [
       "   Unnamed: 0  altitude               date_time  device_info_serial  \\\n",
       "0           0        71  2013-08-15 00:18:08+00                 851   \n",
       "1           1        68  2013-08-15 00:48:07+00                 851   \n",
       "2           2        68  2013-08-15 01:17:58+00                 851   \n",
       "3           3        73  2013-08-15 01:47:51+00                 851   \n",
       "4           4        69  2013-08-15 02:17:42+00                 851   \n",
       "\n",
       "    direction   latitude  longitude  speed_2d bird_name  \n",
       "0 -150.469753  49.419860   2.120733  0.150000      Eric  \n",
       "1 -136.151141  49.419880   2.120746  2.438360      Eric  \n",
       "2  160.797477  49.420310   2.120885  0.596657      Eric  \n",
       "3   32.769360  49.420359   2.120859  0.310161      Eric  \n",
       "4   45.191230  49.420331   2.120887  0.193132      Eric  "
      ]
     },
     "execution_count": 3,
     "metadata": {},
     "output_type": "execute_result"
    }
   ],
   "source": [
    "import pandas as pd\n",
    "birddata = pd.read_csv('bird_tracking.csv')\n",
    "birddata.info()\n",
    "birddata.head()"
   ]
  },
  {
   "cell_type": "markdown",
   "metadata": {},
   "source": [
    "# 4.2.2 Simple Data Visulizations\n",
    "\n",
    "We'll get started by simply plotting the latitude and longitude of a flight\n",
    "trajectory for a single bird in a standard two dimensional plot.\n",
    "Latitude and longitude are coordinates along the surface of a sphere,\n",
    "where a standard 2-D plot is a plane\n",
    "so we would expect very strong distortions\n",
    "for the flight trajectories.\n",
    "This is especially true because the trajectories\n",
    "cover a large spatial region.\n",
    "We're doing this however, primarily to have a quick way to look at the data\n",
    "and develop more intuition about it.\n",
    "We'll be doing an actual cartographic projection later in this case study.\n",
    "We'll proceed with plotting and we'll import our pyplot library\n",
    "as plt. We'll also import NumPy as np as is usual.\n",
    "One of the birds is called Eric.\n",
    "Let's extract the indices, the rows of the data frame for Eric.\n",
    "Bird data dot bird name.\n",
    "We're looking for Eric in this data set.\n",
    "I'm going to store the indices in a variable called ix.\n",
    "Next we'll extract x and y-coordinates of the flight trajectories.\n",
    "X and y are defined here as a tuple.\n",
    "I'll first get the longitude corresponding to my index ix,\n",
    "and then I'll get the latitude for the same positions.\n",
    "And now we have our x and y-coordinates here.\n",
    "I'm going to create a figure of whatever size is suitable,\n",
    "and then we'll plot the trajectories.\n",
    "X versus y, and in this case we'll be just using blue dots\n",
    "to represent the flight trajectory.\n",
    "Let's now look at a PDF version of this plot.\n",
    "In this plot you can see the migration path that Eric has taken.\n",
    "Again, the flight trajectory will be substantially distorted\n",
    "because we did not implement any type of cartographic projection.\n",
    "Nevertheless, we get a decent sense of the flight path.\n",
    "Let's then plot the trajectories for all three birds in a single plot.\n",
    "We'll be extracting the bird names using pandas unique function.\n",
    "Bird data dot bird name.\n",
    "And we can now look at the contents of this object.\n",
    "And we have three birds Eric, Nico, and Sanne.\n",
    "Our code will be essentially the same what we had before, except in this case\n",
    "we have to loop over all three birds.\n",
    "My main loop is going to be for bird name in bird names,\n",
    "and I'll be making use of the code that we just\n",
    "wrote to fill the following lines.\n",
    "We'll proceed very much like before, except that when\n",
    "we do find the index, instead of using Eric,\n",
    "we'll be using our generic bird name.\n",
    "We then extract the x and y-coordinates.\n",
    "We'll move the figure establishment or figure creation at the very top.\n",
    "And then we plot the flight patterns.\n",
    "Once we're done we can also add labels.\n",
    "Our x label is longitude.\n",
    "And our y label is latitude.\n",
    "Finally, we can insert a legend using plt legend\n",
    "and we can specify the location of the legend.\n",
    "In this case I'd like the legend to be in the lower right corner,\n",
    "so location log equals lower right.\n",
    "Let's try running the code.\n",
    "If we'd like to keep a PDF version of this.\n",
    "Before we run the code, we want to make sure\n",
    "that we add the label for each plot.\n",
    "And in this case, the label is bird name.\n",
    "And we can now open the file.\n",
    "Looking at the plot, we see that all three birds\n",
    "seem to have pretty similar overall flight patterns.\n",
    "However, Nico and Sanne seem to venture out further south than Eric does.\n",
    "We'll be looking at these trajectories in more detail in the tasks to come."
   ]
  },
  {
   "cell_type": "code",
   "execution_count": 5,
   "metadata": {},
   "outputs": [
    {
     "data": {
      "text/plain": [
       "[<matplotlib.lines.Line2D at 0x2c973543fa0>]"
      ]
     },
     "execution_count": 5,
     "metadata": {},
     "output_type": "execute_result"
    },
    {
     "data": {
      "image/png": "[encoded data removed]",
      "text/plain": [
       "<Figure size 504x504 with 1 Axes>"
      ]
     },
     "metadata": {
      "needs_background": "light"
     },
     "output_type": "display_data"
    }
   ],
   "source": [
    "#Latitude and longitude are coordinates along the surface of a sphere, where the standard 2-D plot is aplane; therefore,\n",
    "#distortions would be expected. However, an actual carographic projection will be completed later.\n",
    "\n",
    "import matplotlib.pyplot as plt\n",
    "import numpy as np\n",
    "\n",
    "ix = birddata.bird_name == 'Eric' #extract rows of data for the bird Eric from the dataframe\n",
    "x , y = birddata.longitude[ix], birddata.latitude[ix]\n",
    "\n",
    "plt.figure(figsize=(7,7))\n",
    "plt.plot(x,y,\".\")"
   ]
  },
  {
   "cell_type": "code",
   "execution_count": 8,
   "metadata": {},
   "outputs": [
    {
     "data": {
      "image/png": "[encoded data removed]",
      "text/plain": [
       "<Figure size 504x504 with 1 Axes>"
      ]
     },
     "metadata": {
      "needs_background": "light"
     },
     "output_type": "display_data"
    }
   ],
   "source": [
    "#plot the trajectory of all birds on a single plot\n",
    "bird_names = pd.unique(birddata.bird_name) #pandas unique function extracts all unique values in a pd.Series\n",
    "plt.figure(figsize=(7,7))\n",
    "for bird_name in bird_names:\n",
    "    ix = birddata.bird_name == bird_name \n",
    "    x , y = birddata.longitude[ix], birddata.latitude[ix]\n",
    "    plt.plot(x,y,\".\", label=bird_name)\n",
    "plt.xlabel(\"Longitude\")\n",
    "plt.xlabel(\"Latitude\")\n",
    "plt.legend(loc='lower right')\n",
    "plt.savefig('3traj.pdf')"
   ]
  },
  {
   "cell_type": "markdown",
   "metadata": {},
   "source": [
    "# 4.2.3 Examining Flight Speed\n",
    "\n",
    "The data also contain estimates of two dimensional speeds of the birds.\n",
    "That is how fast they were flying on a 2D\n",
    "plane that is a local approximation to the curved surface of the earth.\n",
    "Let's look at the speed data in a little bit more detail.\n",
    "In this case I'm going to work in the editor.\n",
    "I use my previous line.\n",
    "In this case, we'll be just looking at the data for Eric.\n",
    "We'll extract the speed data.\n",
    "Bird data speed underscore 2D.\n",
    "And we provide the index as an input.\n",
    "We can then plot a histogram of his speed.\n",
    "At this point you should see a fairly cryptic error message.\n",
    "That's try to debug this.\n",
    "Let's first look at the contents of speed.\n",
    "I'm just going to look at the first 10 entries.\n",
    "These are numbers so so far everything looks good.\n",
    "If I try to pull out a histogram using just the first ten observations\n",
    "of speed, everything should work out.\n",
    "This works, so there must be something further along in the speed array\n",
    "the hist function doesn't like.\n",
    "Let's see if we have something else than numbers in the array.\n",
    "I'm first going to look for non-number objects.\n",
    "To do that, I'll by using the isnan function from NumPy.\n",
    "Looking at the output, I can see that I at least\n",
    "have a few trues, meaning that I have some non-zero number of NaNs included\n",
    "in my array.\n",
    "A more elegant way to find out if we have any NaNs in our array\n",
    "is the following.\n",
    "We can take the previous line of code and use the any method to ask\n",
    "if any of the output is equal to true.\n",
    "The answer is true, therefore we know that there\n",
    "must be at least one NaN in our array.\n",
    "Let's then find out how many NaNs we exactly have in our speed array.\n",
    "The NumPy isnan function returns an array\n",
    "that consists of true and false, in other words\n",
    "Boolean variables, Boolean objects.\n",
    "We can sum over them.\n",
    "And when we do the sum, a true gets interpreted as a 1 and a false\n",
    "gets interpreted as 0.\n",
    "In this case we have 85 entries for Eric alone that are not numeric.\n",
    "This is what's causing the problem with our histogram.\n",
    "Let's now include only those points those observations that\n",
    "are actually numeric.\n",
    "I'm first going to find the NaNs in my speed array.\n",
    "I will assign the output to ind for index.\n",
    "We can look at it to confirm that it's a Boolean vector.\n",
    "We can then take a bitwise complement of the ind array\n",
    "which turns each occurrence of true to a false and vice versa.\n",
    "We can try that out.\n",
    "For example, we can see that the first few elements\n",
    "have been turned to true when we take the complement off the ind vector.\n",
    "We're now ready to proceed with the histogram.\n",
    "We first look for the isnans.\n",
    "And instead of using the entire speed array for the histogram,\n",
    "we'll only include those entries for which ind is not equal to true.\n",
    "You can try saving the output.\n",
    "And we can now take a closer look at the histogram.\n",
    "Now that we have a working version, we can tweak the code a bit\n",
    "and make some further adjustments.\n",
    "I'm going to do the following things.\n",
    "I'm going to add an x label, a y label, I\n",
    "will specify the locations of the bins, and I would also\n",
    "like my histogram to be normalized.\n",
    "At the top here, we have our original code.\n",
    "And I'm just going to copy paste my modified code in here.\n",
    "In this case, I've used the x label to add an x label,\n",
    "the y label function to add a y label, and I have also\n",
    "specified the locations of bins using the bins keyword argument\n",
    "and NumPy linspace.\n",
    "In this case, the first bin starts at 0 and the last bin ends at 30.\n",
    "Finally, I have normalized the y-axis, meaning\n",
    "that an integral over the histogram would be equal to 1.\n",
    "I can accomplish this stating the normed keyword to be equal to true.\n",
    "Let me run it and we'll look at this beauty.\n",
    "This is our final histogram that quantifies is how fast Eric is flying.\n",
    "Pandas provide some planning functions as well,\n",
    "although less customizable than PLT plots,\n",
    "they readily deal with things like NaNs.\n",
    "However you want to make sure that you always\n",
    "examine your data carefully and look for the presence of NaNs\n",
    "before preparing your plots.\n",
    "Let's look at how we would make the histogram using pandas.\n",
    "In this case, the plotting functions are methods of data frame instances.\n",
    "We're taking our bird data and we're looking\n",
    "at the speed 2D, the two dimensional speed estimates for the birds.\n",
    "Then we use the plot method.\n",
    "As an argument, we have to specify what type of plot we would like to request.\n",
    "In this case we'd like to get a histogram, so kind\n",
    "of to be equal to hist.\n",
    "We can also potentially specify numerous different keyword arguments.\n",
    "In this case, I use the range keyword to specify the range of the histogram\n",
    "to go from 0 to 30.\n",
    "Let's try running the code.\n",
    "I'm calling this pd_hist.pdf.\n",
    "And we get an essentially identical histogram to what we had before.\n",
    "The benefit of using pandas in this case was that we did not\n",
    "have to deal with NaNs explicitly.\n",
    "Instead, all of that happens under the hood."
   ]
  },
  {
   "cell_type": "code",
   "execution_count": 9,
   "metadata": {},
   "outputs": [
    {
     "ename": "TypeError",
     "evalue": "'function' object is not subscriptable",
     "output_type": "error",
     "traceback": [
      "\u001b[1;31m---------------------------------------------------------------------------\u001b[0m",
      "\u001b[1;31mTypeError\u001b[0m                                 Traceback (most recent call last)",
      "\u001b[1;32m<ipython-input-9-567eafcd5ff0>\u001b[0m in \u001b[0;36m<module>\u001b[1;34m\u001b[0m\n\u001b[0;32m      2\u001b[0m \u001b[0mix\u001b[0m \u001b[1;33m=\u001b[0m \u001b[0mbirddata\u001b[0m\u001b[1;33m.\u001b[0m\u001b[0mbird_name\u001b[0m \u001b[1;33m==\u001b[0m \u001b[1;34m'Eric'\u001b[0m\u001b[1;33m\u001b[0m\u001b[1;33m\u001b[0m\u001b[0m\n\u001b[0;32m      3\u001b[0m \u001b[0mspeed\u001b[0m \u001b[1;33m=\u001b[0m \u001b[0mbirddata\u001b[0m\u001b[1;33m.\u001b[0m\u001b[0mspeed_2d\u001b[0m\u001b[1;33m[\u001b[0m\u001b[0mix\u001b[0m\u001b[1;33m]\u001b[0m\u001b[1;33m\u001b[0m\u001b[1;33m\u001b[0m\u001b[0m\n\u001b[1;32m----> 4\u001b[1;33m \u001b[0mplt\u001b[0m\u001b[1;33m.\u001b[0m\u001b[0mhist\u001b[0m\u001b[1;33m[\u001b[0m\u001b[0mspeed\u001b[0m\u001b[1;33m]\u001b[0m\u001b[1;33m\u001b[0m\u001b[1;33m\u001b[0m\u001b[0m\n\u001b[0m",
      "\u001b[1;31mTypeError\u001b[0m: 'function' object is not subscriptable"
     ]
    }
   ],
   "source": [
    "#the data also contains esimations of the birds' 2D speed in reference to a 2D plane-- a local approximation\n",
    "ix = birddata.bird_name == 'Eric'\n",
    "speed = birddata.speed_2d[ix]\n",
    "plt.hist[speed] #should have the error message 'max must be larger than min in range parameter'"
   ]
  },
  {
   "cell_type": "code",
   "execution_count": 11,
   "metadata": {},
   "outputs": [
    {
     "data": {
      "text/plain": [
       "(array([3., 1., 0., 0., 1., 2., 2., 0., 0., 1.]),\n",
       " array([0.15      , 0.59422108, 1.03844216, 1.48266324, 1.92688432,\n",
       "        2.3711054 , 2.81532648, 3.25954756, 3.70376864, 4.14798972,\n",
       "        4.5922108 ]),\n",
       " <BarContainer object of 10 artists>)"
      ]
     },
     "execution_count": 11,
     "metadata": {},
     "output_type": "execute_result"
    },
    {
     "data": {
      "image/png": "[encoded data removed]",
      "text/plain": [
       "<Figure size 432x288 with 1 Axes>"
      ]
     },
     "metadata": {
      "needs_background": "light"
     },
     "output_type": "display_data"
    }
   ],
   "source": [
    "plt.hist(speed[:10]) #The first 10 entries can be plotted, so there may be a non-number later on in the histogram."
   ]
  },
  {
   "cell_type": "code",
   "execution_count": 13,
   "metadata": {},
   "outputs": [
    {
     "name": "stdout",
     "output_type": "stream",
     "text": [
      "0        False\n",
      "1        False\n",
      "2        False\n",
      "3        False\n",
      "4        False\n",
      "         ...  \n",
      "19790    False\n",
      "19791    False\n",
      "19792    False\n",
      "19793    False\n",
      "19794    False\n",
      "Name: speed_2d, Length: 19795, dtype: bool\n"
     ]
    }
   ],
   "source": [
    "np.isnan(speed) #True if the element is Not A Number (NAN); False otherwise #another compiler shows the True entries"
   ]
  },
  {
   "cell_type": "code",
   "execution_count": 14,
   "metadata": {},
   "outputs": [
    {
     "data": {
      "text/plain": [
       "True"
      ]
     },
     "execution_count": 14,
     "metadata": {},
     "output_type": "execute_result"
    }
   ],
   "source": [
    "np.isnan(speed).any() #.any() method determines if any of the data is True; an output of True means at least one entry is True"
   ]
  },
  {
   "cell_type": "code",
   "execution_count": 15,
   "metadata": {},
   "outputs": [
    {
     "data": {
      "text/plain": [
       "85"
      ]
     },
     "execution_count": 15,
     "metadata": {},
     "output_type": "execute_result"
    }
   ],
   "source": [
    "np.sum(np.isnan(speed)) #output equals the number of True values -- the number of NAN elements"
   ]
  },
  {
   "cell_type": "code",
   "execution_count": 17,
   "metadata": {},
   "outputs": [
    {
     "data": {
      "text/plain": [
       "0        False\n",
       "1        False\n",
       "2        False\n",
       "3        False\n",
       "4        False\n",
       "         ...  \n",
       "19790    False\n",
       "19791    False\n",
       "19792    False\n",
       "19793    False\n",
       "19794    False\n",
       "Name: speed_2d, Length: 19795, dtype: bool"
      ]
     },
     "execution_count": 17,
     "metadata": {},
     "output_type": "execute_result"
    }
   ],
   "source": [
    "ind = np.isnan(speed)\n",
    "ind"
   ]
  },
  {
   "cell_type": "code",
   "execution_count": 18,
   "metadata": {},
   "outputs": [
    {
     "data": {
      "text/plain": [
       "0        True\n",
       "1        True\n",
       "2        True\n",
       "3        True\n",
       "4        True\n",
       "         ... \n",
       "19790    True\n",
       "19791    True\n",
       "19792    True\n",
       "19793    True\n",
       "19794    True\n",
       "Name: speed_2d, Length: 19795, dtype: bool"
      ]
     },
     "execution_count": 18,
     "metadata": {},
     "output_type": "execute_result"
    }
   ],
   "source": [
    "#take the bitwise compliment of the ind array, which reverses each element \n",
    "~ind"
   ]
  },
  {
   "cell_type": "code",
   "execution_count": 23,
   "metadata": {},
   "outputs": [
    {
     "data": {
      "text/plain": [
       "Text(0, 0.5, 'Frequency')"
      ]
     },
     "execution_count": 23,
     "metadata": {},
     "output_type": "execute_result"
    },
    {
     "data": {
      "image/png": "[encoded data removed]",
      "text/plain": [
       "<Figure size 432x288 with 1 Axes>"
      ]
     },
     "metadata": {
      "needs_background": "light"
     },
     "output_type": "display_data"
    },
    {
     "data": {
      "image/png": "[encoded data removed]",
      "text/plain": [
       "<Figure size 576x288 with 1 Axes>"
      ]
     },
     "metadata": {
      "needs_background": "light"
     },
     "output_type": "display_data"
    }
   ],
   "source": [
    "ix = birddata.bird_name == 'Eric'\n",
    "speed = birddata.speed_2d[ix]\n",
    "ind = np.isnan(speed)\n",
    "plt.hist(speed[~ind]) #only include entries for which ind is not equal to True\n",
    "plt.savefig('hist.pdf')\n",
    "\n",
    "#optional formatting version\n",
    "plt.figure(figsize=(8,4))\n",
    "speed = birddata.speed_2d[birddata.bird_name == \"Eric\"]\n",
    "ind = np.isnan(speed)\n",
    "plt.hist(speed[~ind], bins=np.linspace(0, 30, 20), density=True) #specified the location of bins and normalized the histogram\n",
    "#the normalization means the integral over the entire histogram would equal 1\n",
    "plt.xlabel('2D speed (m/s)')\n",
    "plt.ylabel('Frequency')"
   ]
  },
  {
   "cell_type": "code",
   "execution_count": 24,
   "metadata": {},
   "outputs": [
    {
     "data": {
      "image/png": "[encoded data removed]",
      "text/plain": [
       "<Figure size 432x288 with 1 Axes>"
      ]
     },
     "metadata": {
      "needs_background": "light"
     },
     "output_type": "display_data"
    }
   ],
   "source": [
    "#pandas also provides plotting functions; however, they are less customizable than PLT plots. Pandas plots readily deal with\n",
    "#NaNs, though.\n",
    "#It is good practice to examine data for NaNs before plotting.\n",
    "## Pandas histogram of the data\n",
    "\n",
    "birddata.speed_2d.plot(kind='hist', range=[0,30])\n",
    "plt.xlabel('2D speed');\n",
    "plt.savefig('pd_hist.pdf')"
   ]
  },
  {
   "cell_type": "markdown",
   "metadata": {},
   "source": [
    "# 4.2.4 Using Datetime\n",
    "\n",
    "We often need to be able to deal with data that has timestamped events,\n",
    "like our GPS data in this case study.\n",
    "We also frequently need to be able to do our arithmetical operations with date\n",
    "and timestamps, such as computing the time interval between two observations.\n",
    "Python's datetime is made for dealing with these types of data.\n",
    "One of the columns in our bird data set is timestamp.\n",
    "It's called date time.\n",
    "Let's look at a couple of the first entries.\n",
    "In this case, we can see that we first have the date stamp and then\n",
    "the timestamp.\n",
    "The date is in the format of year, month, and day.\n",
    "The entries in the data frame are all strings for date stamps.\n",
    "If we'd like to operate on the time and date stamps,\n",
    "such as finding out how much time has elapsed between any two timestamps,\n",
    "we first need to convert them into so-called daytime object, that\n",
    "supports our arithmetic operations.\n",
    "Let's import the date time module first and explore it.\n",
    "We'll import the datetime just as import datetime, so no abbreviated form.\n",
    "To become more familiar with the library,\n",
    "let's play with the function today.\n",
    "It returns to us a datetime, datetime object,\n",
    "that consists of the current date and timestamp.\n",
    "Let's try running it again, but this time we\n",
    "will assign the outcome or output to a variable.\n",
    "So let's say time 1 is equal to this.\n",
    "Then we wait a moment, and then we define time 2,\n",
    "and we run the same method again.\n",
    "We can now take time 2 and subtract time 1.\n",
    "In this case, the output is what's called a time delta object.\n",
    "It tells us how much time has elapsed between time 1 and time 2.\n",
    "We can try rerunning time 2, and if we do the subtraction again,\n",
    "as we'd expect, more time has passed.\n",
    "In this case 30 seconds has passed between time 2 and time 1.\n",
    "The resulting object is called date time time delta object.\n",
    "If we'd like to compute how much time has passed between any two\n",
    "observations in our data set, we first have\n",
    "to convert the timestamps, now given as strings, to datetime objects.\n",
    "Let's investigate the first timestamp in a bit more detail.\n",
    "Here is the field following second is UTC,\n",
    "which stands for coordinated universal time,\n",
    "which is an offset that is expressed in hours.\n",
    "In this case those entries are always 0, something you can check easily.\n",
    "Since the offsets are all 0, we're going to ignore them moving forward.\n",
    "Let's first pull out the first timestamp from our data set.\n",
    "That's located at row 0, so bird data dot date time.\n",
    "I'm going to call this date string.\n",
    "To check these, you can type date str and Python tells us that it's a string.\n",
    "Let's first look at our date string.\n",
    "In this case, we're interested in date string,\n",
    "with the exception of the last three characters.\n",
    "So doing the slicing gives us access to part of the string that we actually\n",
    "care about.\n",
    "Next we're going to use strip time function\n",
    "to turn a string to a datetime object.\n",
    "This is a somewhat complicated looking expression.\n",
    "Let's look at it in a little bit more detail.\n",
    "The first argument is the string, which we would\n",
    "like to turn into a datetime object.\n",
    "The second argument is also a string, but in this case\n",
    "the latter string specifies the formatting of the first string.\n",
    "Let's look at the former string in a little more detail.\n",
    "For example, the first percentage uppercase\n",
    "Y tells Python to expect a year, expressed in four digits.\n",
    "The lowercase m tells Python to expect a month, expressed in two digits,\n",
    "and so on.\n",
    "If we look at the timestamp, the percentage capital H\n",
    "tells Python to expect a 24 hour timestamp, expressing\n",
    "the hours of the event.\n",
    "Let's try running this line\n",
    "and we can see that the output is a datetime object.\n",
    "The year is 2013, month is 8 corresponding to August,\n",
    "date is 15, and so on.\n",
    "We can now use this function to go over every single row in our data set,\n",
    "and create a new datetime object corresponding to every single row.\n",
    "Here is some code that I wrote previously.\n",
    "Let's look at the code and try to understand what it does.\n",
    "I first set up an empty list, which is called timestamps.\n",
    "I then loop over my bird data-- more specifically,\n",
    "over every single row in my data set.\n",
    "I'm using k as my loop variable.\n",
    "For every single row, I extract the date time,\n",
    "except I ignore the last three characters.\n",
    "Once I've converted it to a datetime object\n",
    "I append the resulting object to my timestamps list.\n",
    "We can try running the code,\n",
    "and we can just take a look at the first few of our timestamps.\n",
    "In this case, everything looks good.\n",
    "The next step for me is to construct a panda series object\n",
    "and insert the timestamp from my Python list into that object.\n",
    "I can then append the panda series as a new column in my bird data data frame.\n",
    "Let's look at the code to do that briefly.\n",
    "On the right-hand side, I first create a panda series object\n",
    "from my timestamps list, and I explicitly specify the index\n",
    "to match the index of my bird data.\n",
    "On the left-hand side I then take my existing bird data.\n",
    "I create a new column, which is called timestamp,\n",
    "and I assign my panda series object that new timestamp column.\n",
    "We can try running the code, and we can then look at the top couple of rows.\n",
    "In this case, we can see that the timestamp\n",
    "has been appended, or attached, to our table as the final column.\n",
    "Let's now practice doing arithmetic with our timestamps.\n",
    "I'm going to take my bird data timestamp, let's say from row 4.\n",
    "I will subtract that.\n",
    "I have my bird data timestamp and column 3.\n",
    "In this case, we're getting a time delta object which is what we wanted.\n",
    "What I'd like to do next is to create a list that\n",
    "captures the amount of time that has elapsed\n",
    "since the beginning of data collection.\n",
    "To do this, we will need 2 lines of code.\n",
    "First I will extract the timestamps for Eric,\n",
    "and that object is going to be called times.\n",
    "I then create my elapsed time object and I\n",
    "construct that as a list comprehension.\n",
    "Let's look at the list comprehension in a little more detail.\n",
    "Let's first focus on the for loop for time in times.\n",
    "What happens is that we're taking the time sequence and going over it\n",
    "one object at a time.\n",
    "These objects are called time-- that's our loop variable.\n",
    "The element that gets appended the list is the following--\n",
    "that's given at the beginning of the list comprehension--\n",
    "time minus times at 0.\n",
    "In other words, for each object in the list, time is going to be different--\n",
    "whereas times square bracket 0 marks the beginning of the time measurement,\n",
    "in this case, for Eric.\n",
    "Let's run our two lines of code.\n",
    "Now we can look at our elapsed time.\n",
    "If you look at entry 0, we would expect that to be equal to 0.\n",
    "If you look at the entry at say 1000, we know that in this case\n",
    "12 days, 2 hours, and 2 minutes have passed\n",
    "between observation located at 0, and observation located at index 1000.\n",
    "But how can we measure time in certain units, like hours or days?\n",
    "It turns out this is pretty easy to do.\n",
    "We can take the object that we had before,\n",
    "and we can simply divide that by a time delta object.\n",
    "In this case, if I'd like to know how many days have passed,\n",
    "I create a time delta object that's equal to 1 day.\n",
    "I can accomplish that by using the key word days equals to 1.\n",
    "In this case, I know that exactly 12.084 and so on days\n",
    "have passed between observation 0 and 1000.\n",
    "If I'd like to know this in hours, I can modify the time delta object.\n",
    "I can set it to hours equals 1 and I know that approximately 290 hours\n",
    "have passed between these two points.\n",
    "We can now look at the data for Eric in a little bit more detail.\n",
    "I'm going to make a plot where on the x-axis,\n",
    "we have the number of the observation, and on the y-axis\n",
    "we have the amount of time that has elapsed, measured in days.\n",
    "I'm going to be using the same exact syntax as before.\n",
    "I'm going to call this timeplot.pdf and we can look at the plot.\n",
    "Looking at the plot, we see more or less a straight line.\n",
    "If the times that passes between any two consecutive observations\n",
    "was the exact same, for all observations,\n",
    "we would see one perfectly straight line.\n",
    "In this case we see a couple of jumps in our curve.\n",
    "What this indicates to us is that there are observations\n",
    "that are further apart from one another than other observations in the data\n",
    "set.\n",
    "This type of exploration of data really helps\n",
    "you understand your data set very thoroughly."
   ]
  },
  {
   "cell_type": "code",
   "execution_count": 25,
   "metadata": {},
   "outputs": [
    {
     "data": {
      "text/plain": [
       "0    2013-08-15 00:18:08+00\n",
       "1    2013-08-15 00:48:07+00\n",
       "2    2013-08-15 01:17:58+00\n",
       "Name: date_time, dtype: object"
      ]
     },
     "execution_count": 25,
     "metadata": {},
     "output_type": "execute_result"
    }
   ],
   "source": [
    "birddata.date_time[0:3]\n",
    "#the time stamps need to be converted to a datetime object before arithmetic operations are supported\n",
    "#the +00 portion follows seconds and corresponds to UTC; since these offsets are zero, we will ignore them moving forward"
   ]
  },
  {
   "cell_type": "code",
   "execution_count": 26,
   "metadata": {},
   "outputs": [
    {
     "data": {
      "text/plain": [
       "datetime.datetime(2021, 5, 15, 4, 14, 24, 929907)"
      ]
     },
     "execution_count": 26,
     "metadata": {},
     "output_type": "execute_result"
    }
   ],
   "source": [
    "import datetime\n",
    "datetime.datetime.today() #returns datetime, datetime object, as the current timestamp"
   ]
  },
  {
   "cell_type": "code",
   "execution_count": 27,
   "metadata": {},
   "outputs": [],
   "source": [
    "time_1 = datetime.datetime.today()"
   ]
  },
  {
   "cell_type": "code",
   "execution_count": 29,
   "metadata": {},
   "outputs": [],
   "source": [
    "time_2 = datetime.datetime.today()"
   ]
  },
  {
   "cell_type": "code",
   "execution_count": 31,
   "metadata": {},
   "outputs": [
    {
     "data": {
      "text/plain": [
       "datetime.timedelta(seconds=15, microseconds=576933)"
      ]
     },
     "execution_count": 31,
     "metadata": {},
     "output_type": "execute_result"
    }
   ],
   "source": [
    "time_2 - time_1\n",
    "#output:  time delta object"
   ]
  },
  {
   "cell_type": "code",
   "execution_count": 34,
   "metadata": {},
   "outputs": [
    {
     "data": {
      "text/plain": [
       "'2013-08-15 00:18:08+00'"
      ]
     },
     "execution_count": 34,
     "metadata": {},
     "output_type": "execute_result"
    }
   ],
   "source": [
    "date_str = birddata.date_time[0]\n",
    "date_str"
   ]
  },
  {
   "cell_type": "code",
   "execution_count": null,
   "metadata": {},
   "outputs": [],
   "source": [
    "date_str[:-3] #we are not interested in the last 3 characters-- the UTC portion; slicing"
   ]
  },
  {
   "cell_type": "code",
   "execution_count": 37,
   "metadata": {},
   "outputs": [
    {
     "data": {
      "text/plain": [
       "datetime.datetime(2013, 8, 15, 0, 18, 8)"
      ]
     },
     "execution_count": 37,
     "metadata": {},
     "output_type": "execute_result"
    }
   ],
   "source": [
    "#use the strip time function to turn the string into a datetime object\n",
    "datetime.datetime.strptime(date_str[:-3], \"%Y-%m-%d %H:%M:%S\") #the string with '%' specifies the formatting of the string to be\n",
    "#converted  #uppercase Y means year in four digits; lowercase m means month in two digits; and so on\n",
    "#uppercase H means a 24 hour timestamp"
   ]
  },
  {
   "cell_type": "code",
   "execution_count": 39,
   "metadata": {},
   "outputs": [
    {
     "data": {
      "text/plain": [
       "[datetime.datetime(2013, 8, 15, 0, 18, 8),\n",
       " datetime.datetime(2013, 8, 15, 0, 48, 7),\n",
       " datetime.datetime(2013, 8, 15, 1, 17, 58)]"
      ]
     },
     "execution_count": 39,
     "metadata": {},
     "output_type": "execute_result"
    }
   ],
   "source": [
    "#loop over the entire data set to convert the datetime string to datetime objects\n",
    "timestamps = []\n",
    "for k in range(len(birddata)):\n",
    "    timestamps.append(datetime.datetime.strptime(birddata.date_time.iloc[k][:-3], \"%Y-%m-%d %H:%M:%S\"))\n",
    "    \n",
    "timestamps[0:3]"
   ]
  },
  {
   "cell_type": "code",
   "execution_count": 41,
   "metadata": {},
   "outputs": [
    {
     "data": {
      "text/html": [
       "<div>\n",
       "<style scoped>\n",
       "    .dataframe tbody tr th:only-of-type {\n",
       "        vertical-align: middle;\n",
       "    }\n",
       "\n",
       "    .dataframe tbody tr th {\n",
       "        vertical-align: top;\n",
       "    }\n",
       "\n",
       "    .dataframe thead th {\n",
       "        text-align: right;\n",
       "    }\n",
       "</style>\n",
       "<table border=\"1\" class=\"dataframe\">\n",
       "  <thead>\n",
       "    <tr style=\"text-align: right;\">\n",
       "      <th></th>\n",
       "      <th>Unnamed: 0</th>\n",
       "      <th>altitude</th>\n",
       "      <th>date_time</th>\n",
       "      <th>device_info_serial</th>\n",
       "      <th>direction</th>\n",
       "      <th>latitude</th>\n",
       "      <th>longitude</th>\n",
       "      <th>speed_2d</th>\n",
       "      <th>bird_name</th>\n",
       "      <th>timestamp</th>\n",
       "    </tr>\n",
       "  </thead>\n",
       "  <tbody>\n",
       "    <tr>\n",
       "      <th>0</th>\n",
       "      <td>0</td>\n",
       "      <td>71</td>\n",
       "      <td>2013-08-15 00:18:08+00</td>\n",
       "      <td>851</td>\n",
       "      <td>-150.469753</td>\n",
       "      <td>49.419860</td>\n",
       "      <td>2.120733</td>\n",
       "      <td>0.150000</td>\n",
       "      <td>Eric</td>\n",
       "      <td>2013-08-15 00:18:08</td>\n",
       "    </tr>\n",
       "    <tr>\n",
       "      <th>1</th>\n",
       "      <td>1</td>\n",
       "      <td>68</td>\n",
       "      <td>2013-08-15 00:48:07+00</td>\n",
       "      <td>851</td>\n",
       "      <td>-136.151141</td>\n",
       "      <td>49.419880</td>\n",
       "      <td>2.120746</td>\n",
       "      <td>2.438360</td>\n",
       "      <td>Eric</td>\n",
       "      <td>2013-08-15 00:48:07</td>\n",
       "    </tr>\n",
       "    <tr>\n",
       "      <th>2</th>\n",
       "      <td>2</td>\n",
       "      <td>68</td>\n",
       "      <td>2013-08-15 01:17:58+00</td>\n",
       "      <td>851</td>\n",
       "      <td>160.797477</td>\n",
       "      <td>49.420310</td>\n",
       "      <td>2.120885</td>\n",
       "      <td>0.596657</td>\n",
       "      <td>Eric</td>\n",
       "      <td>2013-08-15 01:17:58</td>\n",
       "    </tr>\n",
       "    <tr>\n",
       "      <th>3</th>\n",
       "      <td>3</td>\n",
       "      <td>73</td>\n",
       "      <td>2013-08-15 01:47:51+00</td>\n",
       "      <td>851</td>\n",
       "      <td>32.769360</td>\n",
       "      <td>49.420359</td>\n",
       "      <td>2.120859</td>\n",
       "      <td>0.310161</td>\n",
       "      <td>Eric</td>\n",
       "      <td>2013-08-15 01:47:51</td>\n",
       "    </tr>\n",
       "    <tr>\n",
       "      <th>4</th>\n",
       "      <td>4</td>\n",
       "      <td>69</td>\n",
       "      <td>2013-08-15 02:17:42+00</td>\n",
       "      <td>851</td>\n",
       "      <td>45.191230</td>\n",
       "      <td>49.420331</td>\n",
       "      <td>2.120887</td>\n",
       "      <td>0.193132</td>\n",
       "      <td>Eric</td>\n",
       "      <td>2013-08-15 02:17:42</td>\n",
       "    </tr>\n",
       "    <tr>\n",
       "      <th>...</th>\n",
       "      <td>...</td>\n",
       "      <td>...</td>\n",
       "      <td>...</td>\n",
       "      <td>...</td>\n",
       "      <td>...</td>\n",
       "      <td>...</td>\n",
       "      <td>...</td>\n",
       "      <td>...</td>\n",
       "      <td>...</td>\n",
       "      <td>...</td>\n",
       "    </tr>\n",
       "    <tr>\n",
       "      <th>61915</th>\n",
       "      <td>61915</td>\n",
       "      <td>11</td>\n",
       "      <td>2014-04-30 22:00:08+00</td>\n",
       "      <td>833</td>\n",
       "      <td>45.448157</td>\n",
       "      <td>51.352572</td>\n",
       "      <td>3.177151</td>\n",
       "      <td>0.208087</td>\n",
       "      <td>Sanne</td>\n",
       "      <td>2014-04-30 22:00:08</td>\n",
       "    </tr>\n",
       "    <tr>\n",
       "      <th>61916</th>\n",
       "      <td>61916</td>\n",
       "      <td>6</td>\n",
       "      <td>2014-04-30 22:29:57+00</td>\n",
       "      <td>833</td>\n",
       "      <td>-112.073055</td>\n",
       "      <td>51.352585</td>\n",
       "      <td>3.177144</td>\n",
       "      <td>1.522662</td>\n",
       "      <td>Sanne</td>\n",
       "      <td>2014-04-30 22:29:57</td>\n",
       "    </tr>\n",
       "    <tr>\n",
       "      <th>61917</th>\n",
       "      <td>61917</td>\n",
       "      <td>5</td>\n",
       "      <td>2014-04-30 22:59:52+00</td>\n",
       "      <td>833</td>\n",
       "      <td>69.989037</td>\n",
       "      <td>51.352622</td>\n",
       "      <td>3.177257</td>\n",
       "      <td>3.120545</td>\n",
       "      <td>Sanne</td>\n",
       "      <td>2014-04-30 22:59:52</td>\n",
       "    </tr>\n",
       "    <tr>\n",
       "      <th>61918</th>\n",
       "      <td>61918</td>\n",
       "      <td>16</td>\n",
       "      <td>2014-04-30 23:29:43+00</td>\n",
       "      <td>833</td>\n",
       "      <td>88.376373</td>\n",
       "      <td>51.354641</td>\n",
       "      <td>3.181509</td>\n",
       "      <td>0.592115</td>\n",
       "      <td>Sanne</td>\n",
       "      <td>2014-04-30 23:29:43</td>\n",
       "    </tr>\n",
       "    <tr>\n",
       "      <th>61919</th>\n",
       "      <td>61919</td>\n",
       "      <td>9</td>\n",
       "      <td>2014-04-30 23:59:34+00</td>\n",
       "      <td>833</td>\n",
       "      <td>149.949008</td>\n",
       "      <td>51.354474</td>\n",
       "      <td>3.181057</td>\n",
       "      <td>0.485489</td>\n",
       "      <td>Sanne</td>\n",
       "      <td>2014-04-30 23:59:34</td>\n",
       "    </tr>\n",
       "  </tbody>\n",
       "</table>\n",
       "<p>61920 rows × 10 columns</p>\n",
       "</div>"
      ],
      "text/plain": [
       "       Unnamed: 0  altitude               date_time  device_info_serial  \\\n",
       "0               0        71  2013-08-15 00:18:08+00                 851   \n",
       "1               1        68  2013-08-15 00:48:07+00                 851   \n",
       "2               2        68  2013-08-15 01:17:58+00                 851   \n",
       "3               3        73  2013-08-15 01:47:51+00                 851   \n",
       "4               4        69  2013-08-15 02:17:42+00                 851   \n",
       "...           ...       ...                     ...                 ...   \n",
       "61915       61915        11  2014-04-30 22:00:08+00                 833   \n",
       "61916       61916         6  2014-04-30 22:29:57+00                 833   \n",
       "61917       61917         5  2014-04-30 22:59:52+00                 833   \n",
       "61918       61918        16  2014-04-30 23:29:43+00                 833   \n",
       "61919       61919         9  2014-04-30 23:59:34+00                 833   \n",
       "\n",
       "        direction   latitude  longitude  speed_2d bird_name  \\\n",
       "0     -150.469753  49.419860   2.120733  0.150000      Eric   \n",
       "1     -136.151141  49.419880   2.120746  2.438360      Eric   \n",
       "2      160.797477  49.420310   2.120885  0.596657      Eric   \n",
       "3       32.769360  49.420359   2.120859  0.310161      Eric   \n",
       "4       45.191230  49.420331   2.120887  0.193132      Eric   \n",
       "...           ...        ...        ...       ...       ...   \n",
       "61915   45.448157  51.352572   3.177151  0.208087     Sanne   \n",
       "61916 -112.073055  51.352585   3.177144  1.522662     Sanne   \n",
       "61917   69.989037  51.352622   3.177257  3.120545     Sanne   \n",
       "61918   88.376373  51.354641   3.181509  0.592115     Sanne   \n",
       "61919  149.949008  51.354474   3.181057  0.485489     Sanne   \n",
       "\n",
       "                timestamp  \n",
       "0     2013-08-15 00:18:08  \n",
       "1     2013-08-15 00:48:07  \n",
       "2     2013-08-15 01:17:58  \n",
       "3     2013-08-15 01:47:51  \n",
       "4     2013-08-15 02:17:42  \n",
       "...                   ...  \n",
       "61915 2014-04-30 22:00:08  \n",
       "61916 2014-04-30 22:29:57  \n",
       "61917 2014-04-30 22:59:52  \n",
       "61918 2014-04-30 23:29:43  \n",
       "61919 2014-04-30 23:59:34  \n",
       "\n",
       "[61920 rows x 10 columns]"
      ]
     },
     "execution_count": 41,
     "metadata": {},
     "output_type": "execute_result"
    }
   ],
   "source": [
    "#make a pandas series object and insert the timestamp from the Python list into the object\n",
    "birddata['timestamp'] = pd.Series(timestamps, index=birddata.index)\n",
    "birddata"
   ]
  },
  {
   "cell_type": "code",
   "execution_count": 42,
   "metadata": {},
   "outputs": [
    {
     "data": {
      "text/plain": [
       "Timedelta('0 days 00:29:51')"
      ]
     },
     "execution_count": 42,
     "metadata": {},
     "output_type": "execute_result"
    }
   ],
   "source": [
    "birddata.timestamp[4] - birddata.timestamp[3]"
   ]
  },
  {
   "cell_type": "code",
   "execution_count": 43,
   "metadata": {},
   "outputs": [
    {
     "data": {
      "text/plain": [
       "Timedelta('0 days 00:00:00')"
      ]
     },
     "execution_count": 43,
     "metadata": {},
     "output_type": "execute_result"
    }
   ],
   "source": [
    "#make a list that contains the amount of time that has elapsed since data collection has started \n",
    "times = birddata.timestamp[birddata.bird_name == 'Eric']\n",
    "elapsed_time = [time - times[0] for time in times]\n",
    "elapsed_time[0]"
   ]
  },
  {
   "cell_type": "code",
   "execution_count": 45,
   "metadata": {},
   "outputs": [
    {
     "data": {
      "text/plain": [
       "Timedelta('12 days 02:02:00')"
      ]
     },
     "execution_count": 45,
     "metadata": {},
     "output_type": "execute_result"
    }
   ],
   "source": [
    "elapsed_time[1000]"
   ]
  },
  {
   "cell_type": "code",
   "execution_count": 48,
   "metadata": {},
   "outputs": [
    {
     "data": {
      "text/plain": [
       "12.084722222222222"
      ]
     },
     "execution_count": 48,
     "metadata": {},
     "output_type": "execute_result"
    }
   ],
   "source": [
    "#Measure time in certain units such as hours or days:  datetime object divided by time delta object\n",
    "elapsed_time[1000] / datetime.timedelta(days=1) \n",
    "#output:  time in units of days"
   ]
  },
  {
   "cell_type": "code",
   "execution_count": 50,
   "metadata": {},
   "outputs": [
    {
     "data": {
      "text/plain": [
       "290.03333333333336"
      ]
     },
     "execution_count": 50,
     "metadata": {},
     "output_type": "execute_result"
    }
   ],
   "source": [
    "elapsed_time[1000] / datetime.timedelta(hours=1) #output:  time in units of hours"
   ]
  },
  {
   "cell_type": "code",
   "execution_count": 52,
   "metadata": {},
   "outputs": [
    {
     "data": {
      "image/png": "[encoded data removed]",
      "text/plain": [
       "<Figure size 432x288 with 1 Axes>"
      ]
     },
     "metadata": {
      "needs_background": "light"
     },
     "output_type": "display_data"
    }
   ],
   "source": [
    "plt.plot(np.array(elapsed_time) / datetime.timedelta(days=1))\n",
    "plt.xlabel('Observation')\n",
    "plt.ylabel('Elapsed time (days)');\n",
    "plt.savefig('timeplot.pdf')\n",
    "\n",
    "#output: approximately linear data which means the times between two consecutive observations is exactly the same in most cases;\n",
    "#however, there are a few jumps in the data which indicates that the time between those observations is increased"
   ]
  },
  {
   "cell_type": "markdown",
   "metadata": {},
   "source": [
    "# 4.2.5 Calculating Daily Mean Speed\n",
    "\n",
    "Our next goal is to create a plot where on the y-axis,\n",
    "we have the mean daily speed.\n",
    "And on the x-axis, we have time measured in days.\n",
    "Before we proceed further, let's think about the algorithm first\n",
    "on the white board.\n",
    "Our data consists of time stamps which are spaced unevenly.\n",
    "This is our time axis here.\n",
    "The first point on the left corresponds to our observation number 0.\n",
    "This is observation number 1, 2, 3, 4, 5, 6, 7, 8, and so on.\n",
    "All time is measured relative to our observation 0.\n",
    "If we were to examine the first few points here,\n",
    "we would find that they likely correspond to day 0.\n",
    "The first day of the experiment.\n",
    "We'd like to be collecting the indices for all those observations\n",
    "that fall within day zero.\n",
    "As soon as we hit day 1, we would like to compute the mean velocity\n",
    "over those observations that we have just collected.\n",
    "We would then like to start collecting, or aggregating,\n",
    "our indices for the new day.\n",
    "To say that differently, we'd like to be collecting indices corresponding\n",
    "to different observations until we hit the next day.\n",
    "Our starting point is day zero.\n",
    "So I'm going to be using a variable called next day\n",
    "and that's going to be equal to 1.\n",
    "I also need a way to keep track of all the different indices.\n",
    "I'm going to call that inds.\n",
    "Let's say that these three observations correspond to day zero.\n",
    "These to day 1, day 2, and so on.\n",
    "I will be going over all of my observations.\n",
    "I will always check.\n",
    "Have I hit the next day yet.\n",
    "The day for these first three observations is 0,\n",
    "so the test will be false.\n",
    "As soon as I hit this observation, I know that I've hit the next day.\n",
    "As I loop over all of these points, I will\n",
    "be building up this list on the fly.\n",
    "So that by the time I hit observation number 3,\n",
    "I will have indices 0, 1, and 2 in my inds list.\n",
    "Once this happens, I do the following:\n",
    "I first compute the average velocity over these indices\n",
    "for the previous or the current day.\n",
    "And I then reset my next day to be equal to plus 1 to what I was before.\n",
    "So in this case, I'll be setting that to be equal to 2.\n",
    "I will proceed this way until I have no more data left.\n",
    "I'm first going to set up two variables.\n",
    "Next day is going to be initially equal to 1.\n",
    "And the indices that I'm collecting, I'm going to call that inds,\n",
    "is just going to be an empty list.\n",
    "The next task will be to loop over elapsed days.\n",
    "I'd like to know both the index of any given observation as well as its value.\n",
    "I can accomplish this using enumerate.\n",
    "Enumerate returns a tuple which consists of index, and in this case, a time.\n",
    "This is a for loop for (i, t) enumerate(elapsed_days):.\n",
    "This is my primary loop.\n",
    "What I want to be able to test is have I hit the next day.\n",
    "If that hasn't happened, then I would like to keep collecting my indices.\n",
    "In this case, represented by i in my collection of indices called inds.\n",
    "So if t is less than next_day, I can just add i, or append(i) to my indices.\n",
    "So inds.append(i).\n",
    "Otherwise, I need to do something else.\n",
    "That's the else part of my if statement.\n",
    "The first thing I need to do is to calculate the mean daily speed.\n",
    "In this case, I don't have, yet, a way of keeping track of those speeds.\n",
    "So I'll need to add, in this case, let's go with the list to keep track\n",
    "of all of these daily mean speeds.\n",
    "I'm going to call this daily mean speed.\n",
    "And I will be setting it up as a Python list.\n",
    "The first task is to compute mean speed.\n",
    "The second task is to increase next_day by 1.\n",
    "So we increment next_day by1.\n",
    "And finally, we need to reset inds.\n",
    "So we create an empty Python list called inds.\n",
    "Lets then work on the first line.\n",
    "Our data frame is called data.\n",
    "And we're interested in speed_2d.\n",
    "In this case, we're specifically interested in only those entries\n",
    "that we've kept track of in inds.\n",
    "These are the specific indices over which\n",
    "we would like to compute the mean of.\n",
    "We then apply np.mean to these observations.\n",
    "And finally, we want to append the result to our daily means speed.\n",
    "Let's try running the code to see if we've made any syntactical errors.\n",
    "The code runs, so we seem to be in good shape.\n",
    "Finally, let's add a plotting component to this code.\n",
    "A plotting routine consists of four lines of code.\n",
    "We first create the figure.\n",
    "We then plot the daily mean speed.\n",
    "And we add x and y labels to our plot.\n",
    "Finally, I'm going to save this as a PDF.\n",
    "We can now look for the plot on the computer.\n",
    "So looking at the plot, we first see that we\n",
    "have data for approximately 260 days.\n",
    "On any given typical, or average day, Eric\n",
    "is flying, on average, about 2 meters per second,\n",
    "just by eyeballing the figure.\n",
    "However, we can see that there seemed to be two periods within the observation\n",
    "window during which Eric is flying substantially more.\n",
    "These are the periods that correspond to his migration patterns.\n",
    "We can see that around day, equal to 90 or 95 perhaps,\n",
    "his mean daily speed is as high as 9 meters per second.\n",
    "We see a similar peak for day perhaps 230 or so.\n",
    "Looking at this plot, we've been able to identify when exactly Eric carries out\n",
    "his migration.\n",
    "The next step we'd like to accomplish is to find out where he actually\n",
    "migrates from and where does he end up."
   ]
  },
  {
   "cell_type": "code",
   "execution_count": 54,
   "metadata": {},
   "outputs": [],
   "source": [
    "data = birddata[birddata.bird_name == 'Eric']\n",
    "times = data.timestamp\n",
    "elapsed_time = [time - times[0] for time in times]\n",
    "elapsed_days = np.array(elapsed_time) / datetime.timedelta(days=1)\n",
    "\n",
    "#daily mean speed algorithm\n",
    "next_day = 1\n",
    "inds = []\n",
    "daily_mean_speed = []\n",
    "for (i,t) in enumerate(elapsed_days):  #enumerate returns a tuple of the index and its element\n",
    "    if t < next_day:\n",
    "        inds.append(i)\n",
    "    else:\n",
    "        # compute mean speed\n",
    "        daily_mean_speed.append(np.mean(data.speed_2d[inds])) #call 2d speed for relevant inds, calc. mean, and append to list\n",
    "        next_day += 1\n",
    "        inds = []  #reset inds"
   ]
  },
  {
   "cell_type": "code",
   "execution_count": 55,
   "metadata": {},
   "outputs": [
    {
     "data": {
      "image/png": "[encoded data removed]",
      "text/plain": [
       "<Figure size 576x432 with 1 Axes>"
      ]
     },
     "metadata": {
      "needs_background": "light"
     },
     "output_type": "display_data"
    }
   ],
   "source": [
    "#general plotting routine:\n",
    "plt.figure(figsize=(8,6)) #create the figure\n",
    "plt.plot(daily_mean_speed) #plot the data -- in this case Daily Mean Speed\n",
    "plt.xlabel(\"Day\")\n",
    "plt.ylabel(\"Mean speed (m/s)\"); #add x and y labels to plot\n",
    "plt.savefig(\"dms.pdf\") #save as a PDF\n",
    "\n",
    "#peak periods correspond to the bird's, Eric's, migration patterns"
   ]
  },
  {
   "cell_type": "code",
   "execution_count": 59,
   "metadata": {},
   "outputs": [
    {
     "data": {
      "text/html": [
       "<div>\n",
       "<style scoped>\n",
       "    .dataframe tbody tr th:only-of-type {\n",
       "        vertical-align: middle;\n",
       "    }\n",
       "\n",
       "    .dataframe tbody tr th {\n",
       "        vertical-align: top;\n",
       "    }\n",
       "\n",
       "    .dataframe thead th {\n",
       "        text-align: right;\n",
       "    }\n",
       "</style>\n",
       "<table border=\"1\" class=\"dataframe\">\n",
       "  <thead>\n",
       "    <tr style=\"text-align: right;\">\n",
       "      <th></th>\n",
       "      <th>Unnamed: 0</th>\n",
       "      <th>altitude</th>\n",
       "      <th>date_time</th>\n",
       "      <th>device_info_serial</th>\n",
       "      <th>direction</th>\n",
       "      <th>latitude</th>\n",
       "      <th>longitude</th>\n",
       "      <th>speed_2d</th>\n",
       "      <th>bird_name</th>\n",
       "      <th>timestamp</th>\n",
       "    </tr>\n",
       "  </thead>\n",
       "  <tbody>\n",
       "    <tr>\n",
       "      <th>40916</th>\n",
       "      <td>40916</td>\n",
       "      <td>55</td>\n",
       "      <td>2013-08-15 00:01:08+00</td>\n",
       "      <td>833</td>\n",
       "      <td>-91.499509</td>\n",
       "      <td>49.931065</td>\n",
       "      <td>2.281893</td>\n",
       "      <td>0.372156</td>\n",
       "      <td>Sanne</td>\n",
       "      <td>2013-08-15 00:01:08</td>\n",
       "    </tr>\n",
       "    <tr>\n",
       "      <th>40917</th>\n",
       "      <td>40917</td>\n",
       "      <td>54</td>\n",
       "      <td>2013-08-15 00:31:00+00</td>\n",
       "      <td>833</td>\n",
       "      <td>-141.804053</td>\n",
       "      <td>49.931076</td>\n",
       "      <td>2.281900</td>\n",
       "      <td>1.318484</td>\n",
       "      <td>Sanne</td>\n",
       "      <td>2013-08-15 00:31:00</td>\n",
       "    </tr>\n",
       "    <tr>\n",
       "      <th>40918</th>\n",
       "      <td>40918</td>\n",
       "      <td>55</td>\n",
       "      <td>2013-08-15 01:01:19+00</td>\n",
       "      <td>833</td>\n",
       "      <td>-10.651840</td>\n",
       "      <td>49.931016</td>\n",
       "      <td>2.281933</td>\n",
       "      <td>0.076158</td>\n",
       "      <td>Sanne</td>\n",
       "      <td>2013-08-15 01:01:19</td>\n",
       "    </tr>\n",
       "    <tr>\n",
       "      <th>40919</th>\n",
       "      <td>40919</td>\n",
       "      <td>56</td>\n",
       "      <td>2013-08-15 01:31:38+00</td>\n",
       "      <td>833</td>\n",
       "      <td>14.727689</td>\n",
       "      <td>49.931053</td>\n",
       "      <td>2.281911</td>\n",
       "      <td>0.014142</td>\n",
       "      <td>Sanne</td>\n",
       "      <td>2013-08-15 01:31:38</td>\n",
       "    </tr>\n",
       "    <tr>\n",
       "      <th>40920</th>\n",
       "      <td>40920</td>\n",
       "      <td>55</td>\n",
       "      <td>2013-08-15 02:01:24+00</td>\n",
       "      <td>833</td>\n",
       "      <td>-169.882200</td>\n",
       "      <td>49.931042</td>\n",
       "      <td>2.281893</td>\n",
       "      <td>0.094340</td>\n",
       "      <td>Sanne</td>\n",
       "      <td>2013-08-15 02:01:24</td>\n",
       "    </tr>\n",
       "    <tr>\n",
       "      <th>...</th>\n",
       "      <td>...</td>\n",
       "      <td>...</td>\n",
       "      <td>...</td>\n",
       "      <td>...</td>\n",
       "      <td>...</td>\n",
       "      <td>...</td>\n",
       "      <td>...</td>\n",
       "      <td>...</td>\n",
       "      <td>...</td>\n",
       "      <td>...</td>\n",
       "    </tr>\n",
       "    <tr>\n",
       "      <th>61915</th>\n",
       "      <td>61915</td>\n",
       "      <td>11</td>\n",
       "      <td>2014-04-30 22:00:08+00</td>\n",
       "      <td>833</td>\n",
       "      <td>45.448157</td>\n",
       "      <td>51.352572</td>\n",
       "      <td>3.177151</td>\n",
       "      <td>0.208087</td>\n",
       "      <td>Sanne</td>\n",
       "      <td>2014-04-30 22:00:08</td>\n",
       "    </tr>\n",
       "    <tr>\n",
       "      <th>61916</th>\n",
       "      <td>61916</td>\n",
       "      <td>6</td>\n",
       "      <td>2014-04-30 22:29:57+00</td>\n",
       "      <td>833</td>\n",
       "      <td>-112.073055</td>\n",
       "      <td>51.352585</td>\n",
       "      <td>3.177144</td>\n",
       "      <td>1.522662</td>\n",
       "      <td>Sanne</td>\n",
       "      <td>2014-04-30 22:29:57</td>\n",
       "    </tr>\n",
       "    <tr>\n",
       "      <th>61917</th>\n",
       "      <td>61917</td>\n",
       "      <td>5</td>\n",
       "      <td>2014-04-30 22:59:52+00</td>\n",
       "      <td>833</td>\n",
       "      <td>69.989037</td>\n",
       "      <td>51.352622</td>\n",
       "      <td>3.177257</td>\n",
       "      <td>3.120545</td>\n",
       "      <td>Sanne</td>\n",
       "      <td>2014-04-30 22:59:52</td>\n",
       "    </tr>\n",
       "    <tr>\n",
       "      <th>61918</th>\n",
       "      <td>61918</td>\n",
       "      <td>16</td>\n",
       "      <td>2014-04-30 23:29:43+00</td>\n",
       "      <td>833</td>\n",
       "      <td>88.376373</td>\n",
       "      <td>51.354641</td>\n",
       "      <td>3.181509</td>\n",
       "      <td>0.592115</td>\n",
       "      <td>Sanne</td>\n",
       "      <td>2014-04-30 23:29:43</td>\n",
       "    </tr>\n",
       "    <tr>\n",
       "      <th>61919</th>\n",
       "      <td>61919</td>\n",
       "      <td>9</td>\n",
       "      <td>2014-04-30 23:59:34+00</td>\n",
       "      <td>833</td>\n",
       "      <td>149.949008</td>\n",
       "      <td>51.354474</td>\n",
       "      <td>3.181057</td>\n",
       "      <td>0.485489</td>\n",
       "      <td>Sanne</td>\n",
       "      <td>2014-04-30 23:59:34</td>\n",
       "    </tr>\n",
       "  </tbody>\n",
       "</table>\n",
       "<p>21004 rows × 10 columns</p>\n",
       "</div>"
      ],
      "text/plain": [
       "       Unnamed: 0  altitude               date_time  device_info_serial  \\\n",
       "40916       40916        55  2013-08-15 00:01:08+00                 833   \n",
       "40917       40917        54  2013-08-15 00:31:00+00                 833   \n",
       "40918       40918        55  2013-08-15 01:01:19+00                 833   \n",
       "40919       40919        56  2013-08-15 01:31:38+00                 833   \n",
       "40920       40920        55  2013-08-15 02:01:24+00                 833   \n",
       "...           ...       ...                     ...                 ...   \n",
       "61915       61915        11  2014-04-30 22:00:08+00                 833   \n",
       "61916       61916         6  2014-04-30 22:29:57+00                 833   \n",
       "61917       61917         5  2014-04-30 22:59:52+00                 833   \n",
       "61918       61918        16  2014-04-30 23:29:43+00                 833   \n",
       "61919       61919         9  2014-04-30 23:59:34+00                 833   \n",
       "\n",
       "        direction   latitude  longitude  speed_2d bird_name  \\\n",
       "40916  -91.499509  49.931065   2.281893  0.372156     Sanne   \n",
       "40917 -141.804053  49.931076   2.281900  1.318484     Sanne   \n",
       "40918  -10.651840  49.931016   2.281933  0.076158     Sanne   \n",
       "40919   14.727689  49.931053   2.281911  0.014142     Sanne   \n",
       "40920 -169.882200  49.931042   2.281893  0.094340     Sanne   \n",
       "...           ...        ...        ...       ...       ...   \n",
       "61915   45.448157  51.352572   3.177151  0.208087     Sanne   \n",
       "61916 -112.073055  51.352585   3.177144  1.522662     Sanne   \n",
       "61917   69.989037  51.352622   3.177257  3.120545     Sanne   \n",
       "61918   88.376373  51.354641   3.181509  0.592115     Sanne   \n",
       "61919  149.949008  51.354474   3.181057  0.485489     Sanne   \n",
       "\n",
       "                timestamp  \n",
       "40916 2013-08-15 00:01:08  \n",
       "40917 2013-08-15 00:31:00  \n",
       "40918 2013-08-15 01:01:19  \n",
       "40919 2013-08-15 01:31:38  \n",
       "40920 2013-08-15 02:01:24  \n",
       "...                   ...  \n",
       "61915 2014-04-30 22:00:08  \n",
       "61916 2014-04-30 22:29:57  \n",
       "61917 2014-04-30 22:59:52  \n",
       "61918 2014-04-30 23:29:43  \n",
       "61919 2014-04-30 23:59:34  \n",
       "\n",
       "[21004 rows x 10 columns]"
      ]
     },
     "execution_count": 59,
     "metadata": {},
     "output_type": "execute_result"
    }
   ],
   "source": [
    "iy = birddata.bird_name == 'Sanne'\n",
    "birddata[iy]"
   ]
  },
  {
   "cell_type": "markdown",
   "metadata": {},
   "source": [
    "# 4.2.6 Using the Cartopy Library\n",
    "\n",
    "Our next step is to install Cartopy, a library that\n",
    "provides cartographic tools for Python.\n",
    "We can identify this module just by googling Cartopy.\n",
    "First, we'll google Cartopy.\n",
    "In this case, it's the first hit that I get on this particular search.\n",
    "We'll then click Documentation, and we'll\n",
    "pick the latest version, in this case version 0.13.\n",
    "You can explore the documentation page to learn more about this library.\n",
    "The first step for us is to install the library.\n",
    "Find the Getting Started section on the page, and click installation guide.\n",
    "We've been using the Anaconda Python distribution throughout this course.\n",
    "One of the benefits of this distribution is\n",
    "that it makes it easy to install new packages.\n",
    "We will not go into details here, but instead, we'll\n",
    "just follow the instructions from the web page.\n",
    "Working on a Mac, we can simply copy the one line of code that we have here,\n",
    "and we can run that in a terminal window.\n",
    "Once we have our terminal window, we just copy/paste a line, and then we wait.\n",
    "In this case, we want to proceed, so I reply yes or y.\n",
    "And depending on your computer, this might take something\n",
    "from 10 to 15 seconds to maybe even a minute or two,\n",
    "so be patient at this stage.\n",
    "In this case, Python has updated some of the existing\n",
    "packages that needed to be updated in order for Cartopy\n",
    "to be installed correctly.\n",
    "Once the process has been completed, your terminal prompt\n",
    "will appear on the screen.\n",
    "Cartopy makes it easy to draw maps, and it seems\n",
    "to work well on multiple platforms.\n",
    "We should point out that there is some other libraries for working with maps,\n",
    "but some of them don't work on both Mac and Windows platforms,\n",
    "and others can be more difficult to use.\n",
    "Here we're using just some of the very basic features of Cartopy,\n",
    "and you can explore more features on your own.\n",
    "We'll first perform two standard imports.\n",
    "To move forward, we need to specify a specific projection\n",
    "that we're interested in using.\n",
    "Cartopy provides several different projection alternatives.\n",
    "In this case, we'll be using one of the standard projections.\n",
    "Our next task is loop over all the birds,\n",
    "and plot their projected trajectories on the map.\n",
    "The code looks very similar to what we had before.\n",
    "We're first looping over all of our bird names.\n",
    "Then we're extracting the rows from our data\n",
    "frame to correspond to that particular bird.\n",
    "Then we extract the longitude and latitude in variables x and y.\n",
    "The final line, the plot line, is what introduces the transformation.\n",
    "In this case, we're using a specific transformation from CCRS.\n",
    "We also want to set up a new figure at the beginning.\n",
    "Finally, we need to set the extent of our axes on the map.\n",
    "This is something that's found usually by trial and error.\n",
    "Before we can call our axes on the final line,\n",
    "we actually first have to create that.\n",
    "We can do that after we've created the figure using plt.axes.\n",
    "Finally, we'll display the legend, and we'll save these as map.pdf.\n",
    "We can then try running our code.\n",
    "We can then look for our map.\n",
    "In this case, we can see the flight trajectories as before,\n",
    "but in this case, we've used an actual cartographic projection.\n",
    "That means that these correspond to an actual map.\n",
    "In fact, we can superimpose a map on top of this.\n",
    "We can add some more features to our plot.\n",
    "For example, we can add land, borders of countries, and so on.\n",
    "In this case, I'm adding four different lines.\n",
    "These four lines add landmasses, oceans, coastlines, and borders of countries\n",
    "to the map.\n",
    "We can now rerun our code and take a look at it.\n",
    "Looking at the flight trajectories superimposed on top of a map\n",
    "gives us much more insight about the migratory patterns of these birds.\n",
    "We've just looked at some very basics of how to visualize\n",
    "bird flights obtained from GPS data.\n",
    "We have prepared some additional exercises for you\n",
    "to continue investigating flight paths in more detail.\n",
    "Have fun."
   ]
  },
  {
   "cell_type": "code",
   "execution_count": 64,
   "metadata": {},
   "outputs": [
    {
     "name": "stderr",
     "output_type": "stream",
     "text": [
      "E:\\anaconda3\\lib\\site-packages\\cartopy\\io\\__init__.py:241: DownloadWarning: Downloading: https://naciscdn.org/naturalearth/50m/cultural/ne_50m_admin_0_boundary_lines_land.zip\n",
      "  warnings.warn('Downloading: {}'.format(url), DownloadWarning)\n"
     ]
    },
    {
     "data": {
      "image/png": "[encoded data removed]",
      "text/plain": [
       "<Figure size 720x720 with 1 Axes>"
      ]
     },
     "metadata": {
      "needs_background": "light"
     },
     "output_type": "display_data"
    }
   ],
   "source": [
    "import cartopy.crs as ccrs\n",
    "import cartopy.feature as cfeature\n",
    "\n",
    "proj = ccrs.Mercator() #Cartopy has several different projections; we will use a standard projection\n",
    "\n",
    "plt.figure(figsize=(10,10))\n",
    "ax = plt.axes(projection=proj)\n",
    "ax.set_extent((-25.0, 20.0, 52.0, 10.0)) #extent of axes on the map -- usually foudn throught trial and error\n",
    "#optional additions to the map:\n",
    "ax.add_feature(cfeature.LAND)\n",
    "ax.add_feature(cfeature.OCEAN)\n",
    "ax.add_feature(cfeature.COASTLINE)\n",
    "ax.add_feature(cfeature.BORDERS, linestyle=':')\n",
    "\n",
    "\n",
    "#loop over all birds and plot their trajectories on the map\n",
    "for name in bird_names:\n",
    "    ix = birddata['bird_name'] == name\n",
    "    x, y = birddata.longitude[ix], birddata.latitude[ix]\n",
    "    ax.plot(x, y, '.', transform=ccrs.Geodetic(), label=name)\n",
    "    \n",
    "plt.legend(loc='upper left')\n",
    "plt.savefig('map.pdf')\n",
    "\n"
   ]
  },
  {
   "cell_type": "code",
   "execution_count": null,
   "metadata": {},
   "outputs": [],
   "source": []
  }
 ],
 "metadata": {
  "kernelspec": {
   "display_name": "Python 3",
   "language": "python",
   "name": "python3"
  },
  "language_info": {
   "codemirror_mode": {
    "name": "ipython",
    "version": 3
   },
   "file_extension": ".py",
   "mimetype": "text/x-python",
   "name": "python",
   "nbconvert_exporter": "python",
   "pygments_lexer": "ipython3",
   "version": "3.8.5"
  }
 },
 "nbformat": 4,
 "nbformat_minor": 4
}
